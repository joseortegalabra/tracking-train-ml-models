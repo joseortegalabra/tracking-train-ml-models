{
 "cells": [
  {
   "cell_type": "markdown",
   "id": "dacbd0d8-e57b-4a2a-82a9-e4cf07ed8d48",
   "metadata": {},
   "source": [
    "## Example mlflow\n",
    "Save the experiments in \"mlflow locally\" and compare the results of differents experiments\n",
    "\n",
    "Introductory level"
   ]
  },
  {
   "cell_type": "code",
   "execution_count": null,
   "id": "20329a1b-4d98-4bfd-835d-46808f9c46eb",
   "metadata": {},
   "outputs": [],
   "source": []
  },
  {
   "cell_type": "markdown",
   "id": "3dba1a2c-507b-4f26-b6a6-13c63a847acd",
   "metadata": {},
   "source": [
    "### -1) Install mlflow"
   ]
  },
  {
   "cell_type": "code",
   "execution_count": null,
   "id": "bc35ebd3-a95c-4092-b759-f3a5e2400220",
   "metadata": {},
   "outputs": [],
   "source": [
    "### 1) Install mlflow"
   ]
  },
  {
   "cell_type": "code",
   "execution_count": null,
   "id": "aedc36dd-8f1c-42e6-9aa2-46160d7ee422",
   "metadata": {},
   "outputs": [],
   "source": [
    "!pip show mlflow"
   ]
  },
  {
   "cell_type": "code",
   "execution_count": null,
   "id": "0025881d-2ec3-4fc7-ae2e-5eaa8dec7546",
   "metadata": {},
   "outputs": [],
   "source": []
  },
  {
   "cell_type": "markdown",
   "id": "eb27ea36-7965-4e74-974b-57149f01a663",
   "metadata": {},
   "source": [
    "### 0. Packages"
   ]
  },
  {
   "cell_type": "code",
   "execution_count": null,
   "id": "0cf6f119-640f-4ad9-b981-f9883bae7e19",
   "metadata": {},
   "outputs": [],
   "source": [
    "# ml packages\n",
    "import numpy as np\n",
    "import matplotlib.pyplot as plt\n",
    "import pandas as pd\n",
    "from sklearn import datasets\n",
    "from sklearn.datasets import fetch_california_housing\n",
    "import seaborn as sns\n",
    "from dotenv import load_dotenv, find_dotenv\n",
    "import os\n",
    "import joblib\n",
    "\n",
    "from sklearn.model_selection import train_test_split\n",
    "from sklearn.preprocessing import StandardScaler\n",
    "\n",
    "\n",
    "# models\n",
    "from sklearn.linear_model import LinearRegression\n",
    "from sklearn.tree import DecisionTreeRegressor\n",
    "from sklearn.ensemble import RandomForestRegressor\n",
    "from sklearn.neural_network import MLPRegressor\n",
    "\n",
    "\n",
    "# evaluate\n",
    "from sklearn.metrics import mean_squared_error\n",
    "from sklearn.metrics import r2_score\n",
    "from sklearn.metrics import mean_absolute_error\n",
    "\n",
    "\n",
    "# mlflow\n",
    "import mlflow"
   ]
  },
  {
   "cell_type": "code",
   "execution_count": null,
   "id": "c3ad7bbb-ab92-4fbe-8f61-c53beed287e0",
   "metadata": {},
   "outputs": [],
   "source": []
  },
  {
   "cell_type": "markdown",
   "id": "1462c314-4ebd-4761-bee7-567f6e123711",
   "metadata": {},
   "source": [
    "### 4) Connect to mlflow\n",
    "In this part you decide the server of mlflow that you will connect:\n",
    "- locally\n",
    "- cluster cloud\n",
    "- etc"
   ]
  },
  {
   "cell_type": "code",
   "execution_count": null,
   "id": "aa6e87b3-3329-479c-ae63-434e6660d361",
   "metadata": {},
   "outputs": [],
   "source": [
    "#conect to mlflow\n",
    "path_local_artifacts_mlflow = 'mlruns'\n",
    "\n",
    "mlflow.set_tracking_uri(path_local_artifacts_mlflow)"
   ]
  },
  {
   "cell_type": "code",
   "execution_count": null,
   "id": "1e97ab83-1f8b-47a3-893d-6a5fb350d586",
   "metadata": {},
   "outputs": [],
   "source": []
  },
  {
   "cell_type": "markdown",
   "id": "7a6fee1c-cb36-4c49-b7ea-02396aed9694",
   "metadata": {},
   "source": [
    "### 5) Set the experiment\n",
    "If the experiment doesn´t exist, it will be created automatically"
   ]
  },
  {
   "cell_type": "code",
   "execution_count": null,
   "id": "77206644-a351-4755-88c4-34f6fb54801e",
   "metadata": {},
   "outputs": [],
   "source": [
    "experiment_name = '1_mlflow_example'\n",
    "mlflow.set_experiment(experiment_name)"
   ]
  },
  {
   "cell_type": "code",
   "execution_count": null,
   "id": "901ab5c2-475d-4dd2-90e1-bdaeae42bd6e",
   "metadata": {},
   "outputs": [],
   "source": [
    "# validate the experiment is created/set\n",
    "mlflow.get_experiment_by_name(experiment_name)"
   ]
  },
  {
   "cell_type": "code",
   "execution_count": null,
   "id": "4c696670-fe67-43aa-b415-fa3a7da3a3e8",
   "metadata": {},
   "outputs": [],
   "source": []
  },
  {
   "cell_type": "markdown",
   "id": "83621d7f-5b03-4fee-813b-42a8e12c5106",
   "metadata": {},
   "source": [
    "### 6) Train models and save its results in mlflow"
   ]
  },
  {
   "cell_type": "markdown",
   "id": "e3e4d7d1-bafe-4586-8af7-74b01b794307",
   "metadata": {},
   "source": [
    "#### 6.1) Load Data"
   ]
  },
  {
   "cell_type": "code",
   "execution_count": null,
   "id": "57ec2376-f4e6-4531-b736-5187fca0ded1",
   "metadata": {},
   "outputs": [],
   "source": [
    "# load data\n",
    "data_X, data_y = fetch_california_housing(return_X_y=True, as_frame=True)"
   ]
  },
  {
   "cell_type": "code",
   "execution_count": null,
   "id": "0c56b70e-a3cb-4d7e-8f48-cb79d88ff17d",
   "metadata": {},
   "outputs": [],
   "source": [
    "data_X.head()"
   ]
  },
  {
   "cell_type": "code",
   "execution_count": null,
   "id": "03c3556d-b65e-4651-982c-784ce839424f",
   "metadata": {},
   "outputs": [],
   "source": [
    "data_y.head()"
   ]
  },
  {
   "cell_type": "code",
   "execution_count": null,
   "id": "84d3d09f-2b6c-4e31-b998-e6af91612dc8",
   "metadata": {},
   "outputs": [],
   "source": []
  },
  {
   "cell_type": "markdown",
   "id": "43306c22-484b-4249-8b5b-fe4d1c6e812b",
   "metadata": {},
   "source": [
    "#### 6.2 EDA"
   ]
  },
  {
   "cell_type": "code",
   "execution_count": null,
   "id": "e1dc41aa-33ab-49c4-9b8c-c221abd70a0b",
   "metadata": {},
   "outputs": [],
   "source": [
    "# EDA\n",
    "data_X.describe()"
   ]
  },
  {
   "cell_type": "code",
   "execution_count": null,
   "id": "d7e1056d-b6cb-4de0-9079-159cce913dce",
   "metadata": {},
   "outputs": [],
   "source": [
    "# correlations between features\n",
    "corr = data_X.corr()\n",
    "\n",
    "# Crear un mapa de calor con Matplotlib\n",
    "plt.figure(figsize=(8, 4))\n",
    "heatmap = plt.imshow(corr, cmap='coolwarm', interpolation='none', aspect='auto')\n",
    "\n",
    "# Mostrar los valores en cada celda\n",
    "for i in range(len(corr)):\n",
    "    for j in range(len(corr)):\n",
    "        plt.text(j, i, f'{corr.iloc[i, j]:.2f}', ha='center', va='center', color='w')\n",
    "\n",
    "# Añadir barra de color\n",
    "plt.colorbar(heatmap, fraction=0.046, pad=0.04)\n",
    "\n",
    "# Añadir etiquetas\n",
    "plt.xticks(range(len(corr)), corr.columns, rotation=90)\n",
    "plt.yticks(range(len(corr)), corr.index)\n",
    "\n",
    "# Añadir título\n",
    "plt.title('Correlation Matrix')\n",
    "\n",
    "# save\n",
    "name_correleation_matrix = 'correlation_matrix.png'\n",
    "plt.savefig(name_correleation_matrix)\n",
    "\n",
    "# Mostrar el gráfico\n",
    "plt.show()"
   ]
  },
  {
   "cell_type": "code",
   "execution_count": null,
   "id": "6dacf18f-9b0a-4374-b099-7dd69d1500b6",
   "metadata": {},
   "outputs": [],
   "source": []
  },
  {
   "cell_type": "markdown",
   "id": "6ba0e840-4b0d-4575-8927-0a187b482e46",
   "metadata": {},
   "source": [
    "#### 6.3 split data"
   ]
  },
  {
   "cell_type": "code",
   "execution_count": null,
   "id": "6d3a5db8-09d1-4a1b-836a-b31bac90fc50",
   "metadata": {},
   "outputs": [],
   "source": [
    "# split train and test\n",
    "X_train, X_test, y_train, y_test = train_test_split(data_X, data_y, test_size = 0.25, random_state = 0)"
   ]
  },
  {
   "cell_type": "code",
   "execution_count": null,
   "id": "6e9ae0b2-2d4b-4327-b3c8-074274374f53",
   "metadata": {},
   "outputs": [],
   "source": [
    "# feature scaling\n",
    "scaler = StandardScaler()\n",
    "X_train = scaler.fit_transform(X_train)\n",
    "X_test = scaler.transform(X_test)"
   ]
  },
  {
   "cell_type": "markdown",
   "id": "ece4bda9-8c84-461c-a42b-c68e47d0c55b",
   "metadata": {},
   "source": [
    "### 6.4 Values of target"
   ]
  },
  {
   "cell_type": "code",
   "execution_count": null,
   "id": "5992f6f2-0fec-498f-99ed-df4d592c6f82",
   "metadata": {},
   "outputs": [],
   "source": [
    "# statistics target\n",
    "y_train_mean = round(y_train.mean(), 2)\n",
    "y_train_std = round(y_train.std(), 2)\n",
    "y_test_mean = round(y_test.mean(), 2)\n",
    "y_test_std = round(y_test.std(), 2)\n",
    "\n",
    "print('statistics target')\n",
    "print(f'--train-- mean = {y_train_mean}, std = {y_train_std}')\n",
    "print(f'--test-- mean = {y_test_mean}, std = {y_test_std}')"
   ]
  },
  {
   "cell_type": "code",
   "execution_count": null,
   "id": "4e351675-8d78-4806-bbf2-7a96cb6f7b38",
   "metadata": {},
   "outputs": [],
   "source": [
    "# histogram target\n",
    "plt.hist(y_train, \n",
    "         color = 'black', \n",
    "         alpha = 0.5,\n",
    "        label = f'--train-- mean = {y_train_mean}, std = {y_train_std}'\n",
    "        )\n",
    "\n",
    "plt.hist(y_test, \n",
    "         color = 'orange', \n",
    "         alpha = 0.5,\n",
    "        label = f'--test-- mean = {y_test_mean}, std = {y_test_std}'\n",
    "        )\n",
    "\n",
    "plt.title('histogram of target train vs test')\n",
    "plt.legend()\n",
    "\n",
    "# save\n",
    "name_histograms_target = 'histograms_target_train_test.png'\n",
    "plt.savefig(name_histograms_target)\n",
    "\n",
    "# show\n",
    "plt.show()"
   ]
  },
  {
   "cell_type": "code",
   "execution_count": null,
   "id": "8ad26b02-590c-4837-9a38-ed769aa42ddf",
   "metadata": {},
   "outputs": [],
   "source": []
  },
  {
   "cell_type": "markdown",
   "id": "ded12171-06e3-4bda-8d57-7aabc8912970",
   "metadata": {},
   "source": [
    "### 7. Train models, evaluate it and save results\n",
    "Train all the models with the same dataset and evaluate with the same dataset\n",
    "\n",
    "Models trained (each model trained is saved in a different run)\n",
    "- linear regression\n",
    "- decision tree\n",
    "- random forest (small)\n",
    "- random forest (medium)\n",
    "- random forest (default)\n",
    "- nn mlp (using sklearn)"
   ]
  },
  {
   "cell_type": "markdown",
   "id": "de1807eb-e68b-4b52-a24f-b940649222ff",
   "metadata": {},
   "source": [
    "### 7.0 Auxiliar functions"
   ]
  },
  {
   "cell_type": "markdown",
   "id": "9a7406f0-e432-4912-9893-376da4ad8614",
   "metadata": {},
   "source": [
    "#### 7.1 Auxiliar functions train/evaluate models"
   ]
  },
  {
   "cell_type": "code",
   "execution_count": null,
   "id": "83bff030-2415-43cc-aef9-1df1f0c2186a",
   "metadata": {},
   "outputs": [],
   "source": [
    "def evaluate_model(y_true, y_predicted):\n",
    "    \"\"\"\n",
    "    Given \"y_true\" and \"y_predicted\" calculate metrics of performance (r2, rmse, mae)\n",
    "    \"\"\"\n",
    "    r2_metric = r2_score(y_true, y_predicted)\n",
    "\n",
    "    rmse_metric = mean_squared_error(y_true, y_predicted, squared = False)\n",
    "\n",
    "    mae_metric = mean_absolute_error(y_true, y_predicted)\n",
    "\n",
    "    print(\"r2: \", r2_metric)\n",
    "    print(\"rmse: \", rmse_metric)\n",
    "    print(\"mae_metric: \", mae_metric)\n",
    "    return r2_metric, rmse_metric, mae_metric"
   ]
  },
  {
   "cell_type": "code",
   "execution_count": null,
   "id": "b895af3e-d170-46af-bd70-4396535d9920",
   "metadata": {},
   "outputs": [],
   "source": []
  },
  {
   "cell_type": "code",
   "execution_count": null,
   "id": "b7129705-d13f-4046-9cca-cde697035ef1",
   "metadata": {},
   "outputs": [],
   "source": []
  },
  {
   "cell_type": "code",
   "execution_count": null,
   "id": "fa6e9d58-7f07-4a10-8a4e-bb55fe33ef8c",
   "metadata": {},
   "outputs": [],
   "source": []
  },
  {
   "cell_type": "markdown",
   "id": "b87a1c93-ff02-47e0-9725-8ecd402ff537",
   "metadata": {},
   "source": [
    "#### 7.1 linear regression (lr)"
   ]
  },
  {
   "cell_type": "code",
   "execution_count": null,
   "id": "ba85976e-69a6-414f-89a2-fc2731a57593",
   "metadata": {},
   "outputs": [],
   "source": [
    "# train model\n",
    "lr = LinearRegression()\n",
    "lr.fit(X_train, y_train)\n",
    "\n",
    "# get predictions\n",
    "y_test_predicted = lr.predict(X_test)\n",
    "\n",
    "# evaluate\n",
    "r2_lr, rmse_lr, mae_lr = evaluate_model(y_test, y_test_predicted)"
   ]
  },
  {
   "cell_type": "code",
   "execution_count": null,
   "id": "597c28e9-ab38-48ec-820c-d7739b260c1d",
   "metadata": {},
   "outputs": [],
   "source": [
    "# initialize run\n",
    "run_name = \"run-lr\"\n",
    "mlflow.start_run(run_name = run_name)\n",
    "run = mlflow.active_run()\n",
    "\n",
    "# save metrics\n",
    "mlflow.log_metric(\"r2\", r2_lr)\n",
    "mlflow.log_metric(\"rmse\", rmse_lr)\n",
    "mlflow.log_metric(\"mae\", mae_lr)\n",
    "\n",
    "# save graphs\n",
    "mlflow.log_artifact(name_correleation_matrix)\n",
    "mlflow.log_artifact(name_histograms_target)\n",
    "\n",
    "# save model (but not registry)\n",
    "model_name = 'model.pkl'\n",
    "joblib.dump(lr, model_name) # save locally\n",
    "mlflow.log_artifact(model_name) # mlflow\n",
    "\n",
    "# end run\n",
    "mlflow.end_run()"
   ]
  },
  {
   "cell_type": "code",
   "execution_count": null,
   "id": "aaa8bf78-916c-4df0-b11a-9289f9f12fa9",
   "metadata": {},
   "outputs": [],
   "source": []
  },
  {
   "cell_type": "code",
   "execution_count": null,
   "id": "12e09ffe-e186-4020-a50e-b65b4171ea27",
   "metadata": {},
   "outputs": [],
   "source": []
  },
  {
   "cell_type": "markdown",
   "id": "0f3fd1f0-81ab-48a9-b8db-0848ae944dd1",
   "metadata": {},
   "source": [
    "#### 7.2 decision tree (tree)"
   ]
  },
  {
   "cell_type": "code",
   "execution_count": null,
   "id": "ec424729-8d11-48b9-937d-e00ad70c8740",
   "metadata": {},
   "outputs": [],
   "source": [
    "### parameters\n",
    "max_depth_tree = 15\n",
    "min_samples_split_tree = 10\n",
    "min_samples_leaf_tree = 10\n",
    "\n",
    "\n",
    "# train model\n",
    "tree = DecisionTreeRegressor(max_depth = max_depth_tree,\n",
    "                             min_samples_split = min_samples_split_tree,\n",
    "                             min_samples_leaf = min_samples_leaf_tree,\n",
    "                             random_state=42\n",
    "                            )\n",
    "tree.fit(X_train, y_train)\n",
    "\n",
    "# get predictions\n",
    "y_test_predicted = tree.predict(X_test)\n",
    "\n",
    "\n",
    "# evaluate\n",
    "r2_tree, rmse_tree, mae_tree = evaluate_model(y_test, y_test_predicted)"
   ]
  },
  {
   "cell_type": "code",
   "execution_count": null,
   "id": "7c3bdd29-2f68-4f57-a18b-b7c09d17454a",
   "metadata": {},
   "outputs": [],
   "source": [
    "#initialize run\n",
    "run_name = \"run-tree\"\n",
    "mlflow.start_run(run_name = run_name)\n",
    "run = mlflow.active_run()\n",
    "\n",
    "# save parametes\n",
    "mlflow.log_param(\"max_depth\", max_depth_tree)\n",
    "mlflow.log_param(\"min_samples_split\", min_samples_split_tree)\n",
    "mlflow.log_param(\"min_samples_leaf\", min_samples_leaf_tree)\n",
    "\n",
    "# save metrics\n",
    "mlflow.log_metric(\"r2\", r2_tree)\n",
    "mlflow.log_metric(\"rmse\", rmse_tree)\n",
    "mlflow.log_metric(\"mae\", mae_tree)\n",
    "\n",
    "# save graphs\n",
    "mlflow.log_artifact(name_correleation_matrix)\n",
    "mlflow.log_artifact(name_histograms_target)\n",
    "\n",
    "# save model (but not registry)\n",
    "model_name = 'model.pkl'\n",
    "joblib.dump(tree, model_name) # save locally\n",
    "mlflow.log_artifact(model_name) # mlflow\n",
    "\n",
    "# end run\n",
    "mlflow.end_run()"
   ]
  },
  {
   "cell_type": "code",
   "execution_count": null,
   "id": "d4261f15-5e1a-4542-9b91-c0f8825aeeef",
   "metadata": {},
   "outputs": [],
   "source": []
  },
  {
   "cell_type": "markdown",
   "id": "ea1afecb-6e2e-495d-a879-01025bbf187c",
   "metadata": {},
   "source": [
    "#### 7.2 Extra - explore the efect of change \"max_depth\"\n",
    "- Explore the efect changing the maximum depth of the tree\n",
    "\n",
    "- Instead of doing a hp tunning, the idea is changing the values of \"max_depth\" and SEE IN MLFLOW the efect of changing only one hiper-parameter"
   ]
  },
  {
   "cell_type": "code",
   "execution_count": null,
   "id": "9ca40f6e-5474-4889-ae8b-e5769646a08a",
   "metadata": {},
   "outputs": [],
   "source": [
    "### parameters\n",
    "max_depth_tree = [1,2,3,4,5,6,7,8,9,10]\n",
    "min_samples_split_tree = 10\n",
    "min_samples_leaf_tree = 20\n",
    "\n",
    "\n",
    "# train model\n",
    "for iter_max_depth in max_depth_tree:\n",
    "    \n",
    "    #### TRAIN AND EVALUATE\n",
    "    tree = DecisionTreeRegressor(max_depth = iter_max_depth,\n",
    "                                 min_samples_split = min_samples_split_tree,\n",
    "                                 min_samples_leaf = min_samples_leaf_tree,\n",
    "                                 random_state = 42\n",
    "                                )\n",
    "    tree.fit(X_train, y_train)\n",
    "    y_test_predicted = tree.predict(X_test)\n",
    "    r2_tree, rmse_tree, mae_tree = evaluate_model(y_test, y_test_predicted)\n",
    "\n",
    "\n",
    "    #### SAVE MLFLOW\n",
    "    #initialize run\n",
    "    run_name = f\"run-tree-depth-{iter_max_depth}\"\n",
    "    mlflow.start_run(run_name = run_name)\n",
    "    run = mlflow.active_run()\n",
    "    \n",
    "    # save parametes\n",
    "    mlflow.log_param(\"max-depth-tree\", iter_max_depth)\n",
    "    mlflow.log_param(\"split-tree\", min_samples_split_tree)\n",
    "    mlflow.log_param(\"leaf-tree\", min_samples_leaf_tree)\n",
    "    \n",
    "    # save metrics\n",
    "    mlflow.log_metric(\"r2\", r2_tree)\n",
    "    mlflow.log_metric(\"rmse\", rmse_tree)\n",
    "    mlflow.log_metric(\"mae\", mae_tree)\n",
    "    \n",
    "    # save graphs\n",
    "    mlflow.log_artifact(name_correleation_matrix)\n",
    "    mlflow.log_artifact(name_histograms_target)\n",
    "    \n",
    "    # save model (but not registry)\n",
    "    model_name = 'model.pkl'\n",
    "    joblib.dump(tree, model_name) # save locally\n",
    "    mlflow.log_artifact(model_name) # mlflow\n",
    "    \n",
    "    # end run\n",
    "    mlflow.end_run()"
   ]
  },
  {
   "cell_type": "code",
   "execution_count": null,
   "id": "fb0d64e4-9ed5-4db3-a264-f47a812421d9",
   "metadata": {},
   "outputs": [],
   "source": []
  },
  {
   "cell_type": "code",
   "execution_count": null,
   "id": "c46ef47b-886e-4b1d-9308-ade55b9c2e16",
   "metadata": {},
   "outputs": [],
   "source": []
  },
  {
   "cell_type": "code",
   "execution_count": null,
   "id": "0c5cff83-b91e-40b8-904e-afb70f7ad5ca",
   "metadata": {},
   "outputs": [],
   "source": []
  },
  {
   "cell_type": "markdown",
   "id": "09b8f75c-a6c3-4a18-a44e-58d08e6e8df1",
   "metadata": {},
   "source": [
    "#### 7.3 random forest (small) (rf_small)"
   ]
  },
  {
   "cell_type": "code",
   "execution_count": null,
   "id": "d67e35d7-dadd-4e00-977e-6adf6b541080",
   "metadata": {},
   "outputs": [],
   "source": [
    "### parameters\n",
    "n_estimators_rf_small = 5\n",
    "max_depth_rf_small = 50\n",
    "min_samples_split_rf_small = 10 \n",
    "min_samples_leaf_rf_small = 10\n",
    "\n",
    "\n",
    "# train model\n",
    "rf_small = RandomForestRegressor(n_estimators = n_estimators_rf_small,\n",
    "                                   max_depth = max_depth_rf_small,\n",
    "                                   min_samples_split = min_samples_split_rf_small,\n",
    "                                   min_samples_leaf = min_samples_leaf_rf_small,\n",
    "                                   random_state=42\n",
    "                                  )\n",
    "rf_small.fit(X_train, y_train)\n",
    "\n",
    "\n",
    "# get predictions\n",
    "y_test_predicted = rf_small.predict(X_test)\n",
    "\n",
    "\n",
    "# evaluate\n",
    "r2_rf_small, rmse_rf_small, mae_rf_small = evaluate_model(y_test, y_test_predicted)"
   ]
  },
  {
   "cell_type": "code",
   "execution_count": null,
   "id": "50b8a453-3ab4-408e-a592-da42d5784f88",
   "metadata": {},
   "outputs": [],
   "source": [
    "#initialize run\n",
    "run_name = \"run-rf-small\"\n",
    "mlflow.start_run(run_name = run_name)\n",
    "run = mlflow.active_run()\n",
    "\n",
    "# save parametes\n",
    "mlflow.log_param(\"n_estimators\", n_estimators_rf_small)\n",
    "mlflow.log_param(\"max_depth\", max_depth_rf_small)\n",
    "mlflow.log_param(\"min_samples_split\", min_samples_split_rf_small)\n",
    "mlflow.log_param(\"min_samples_leaf\", min_samples_leaf_rf_small)\n",
    "\n",
    "# save metrics\n",
    "mlflow.log_metric(\"r2\", r2_rf_small)\n",
    "mlflow.log_metric(\"rmse\", rmse_rf_small)\n",
    "mlflow.log_metric(\"mae\", mae_rf_small)\n",
    "\n",
    "# save graphs\n",
    "mlflow.log_artifact(name_correleation_matrix)\n",
    "mlflow.log_artifact(name_histograms_target)\n",
    "\n",
    "# save model (but not registry)\n",
    "model_name = 'model.pkl'\n",
    "joblib.dump(rf_small, model_name) # save locally\n",
    "mlflow.log_artifact(model_name) # mlflow\n",
    "\n",
    "# end run\n",
    "mlflow.end_run()"
   ]
  },
  {
   "cell_type": "code",
   "execution_count": null,
   "id": "65a782a8-6a53-4f3e-9bef-5812b4683de7",
   "metadata": {},
   "outputs": [],
   "source": []
  },
  {
   "cell_type": "code",
   "execution_count": null,
   "id": "0bc61d77-f787-4a47-b7d5-61fd60e4a1d3",
   "metadata": {},
   "outputs": [],
   "source": []
  },
  {
   "cell_type": "markdown",
   "id": "798d01a7-e0ee-4f9d-8768-4b6e4c06e618",
   "metadata": {},
   "source": [
    "#### 7.4 random forest (medium) (rf_medium)"
   ]
  },
  {
   "cell_type": "code",
   "execution_count": null,
   "id": "fa81aedc-5a1e-4ed8-9da7-96b67e9e3b82",
   "metadata": {},
   "outputs": [],
   "source": [
    "### parameters\n",
    "n_estimators_rf_medium = 30\n",
    "max_depth_rf_medium = 50\n",
    "min_samples_split_rf_medium = 10 \n",
    "min_samples_leaf_rf_medium = 10\n",
    "\n",
    "\n",
    "# train model\n",
    "rf_medium = RandomForestRegressor(n_estimators = n_estimators_rf_medium,\n",
    "                                   max_depth = max_depth_rf_medium,\n",
    "                                   min_samples_split = min_samples_split_rf_medium,\n",
    "                                   min_samples_leaf = min_samples_leaf_rf_medium,\n",
    "                                   random_state=42\n",
    "                                  )\n",
    "rf_medium.fit(X_train, y_train)\n",
    "\n",
    "\n",
    "# get predictions\n",
    "y_test_predicted = rf_medium.predict(X_test)\n",
    "\n",
    "\n",
    "# evaluate\n",
    "r2_rf_medium, rmse_rf_medium, mae_rf_medium = evaluate_model(y_test, y_test_predicted)"
   ]
  },
  {
   "cell_type": "code",
   "execution_count": null,
   "id": "bfe00ca6-2859-4fe8-b425-c6a7001a4d4e",
   "metadata": {},
   "outputs": [],
   "source": [
    "#initialize run\n",
    "run_name = \"run-rf-medium\"\n",
    "mlflow.start_run(run_name = run_name)\n",
    "run = mlflow.active_run()\n",
    "\n",
    "# save parametes\n",
    "mlflow.log_param(\"n_estimators\", n_estimators_rf_medium)\n",
    "mlflow.log_param(\"max_depth\", max_depth_rf_medium)\n",
    "mlflow.log_param(\"min_samples_split\", min_samples_split_rf_medium)\n",
    "mlflow.log_param(\"min_samples_leaf\", min_samples_leaf_rf_medium)\n",
    "\n",
    "# save metrics\n",
    "mlflow.log_metric(\"r2\", r2_rf_medium)\n",
    "mlflow.log_metric(\"rmse\", rmse_rf_medium)\n",
    "mlflow.log_metric(\"mae\", mae_rf_medium)\n",
    "\n",
    "# save graphs\n",
    "mlflow.log_artifact(name_correleation_matrix)\n",
    "mlflow.log_artifact(name_histograms_target)\n",
    "\n",
    "# save model (but not registry)\n",
    "model_name = 'model.pkl'\n",
    "joblib.dump(rf_medium, model_name) # save locally\n",
    "mlflow.log_artifact(model_name) # mlflow\n",
    "\n",
    "# end run\n",
    "mlflow.end_run()"
   ]
  },
  {
   "cell_type": "code",
   "execution_count": null,
   "id": "1a3dea50-a3d6-4834-9b95-bed9e011e3b2",
   "metadata": {},
   "outputs": [],
   "source": []
  },
  {
   "cell_type": "code",
   "execution_count": null,
   "id": "ec7899db-dda2-4eb0-a23e-bc93940269eb",
   "metadata": {},
   "outputs": [],
   "source": []
  },
  {
   "cell_type": "markdown",
   "id": "2629b193-cf9a-4d8f-9e31-3a0457f07b5e",
   "metadata": {},
   "source": [
    "#### 7.5 random forest (default) (rf_default)"
   ]
  },
  {
   "cell_type": "code",
   "execution_count": null,
   "id": "ba72c627-1a05-45ec-9c13-f808c6082c9e",
   "metadata": {},
   "outputs": [],
   "source": [
    "### parameters\n",
    "n_estimators_rf_default = 100\n",
    "max_depth_rf_default = 50\n",
    "min_samples_split_rf_default = 10 \n",
    "min_samples_leaf_rf_default = 10\n",
    "\n",
    "\n",
    "# train model\n",
    "rf_default = RandomForestRegressor(n_estimators = n_estimators_rf_default,\n",
    "                                   max_depth = max_depth_rf_default,\n",
    "                                   min_samples_split = min_samples_split_rf_default,\n",
    "                                   min_samples_leaf = min_samples_leaf_rf_default,\n",
    "                                   random_state=42\n",
    "                                  )\n",
    "rf_default.fit(X_train, y_train)\n",
    "\n",
    "\n",
    "# get predictions\n",
    "y_test_predicted = rf_default.predict(X_test)\n",
    "\n",
    "\n",
    "# evaluate\n",
    "r2_rf_default, rmse_rf_default, mae_rf_default = evaluate_model(y_test, y_test_predicted)"
   ]
  },
  {
   "cell_type": "code",
   "execution_count": null,
   "id": "54d53035-06f1-48cc-b951-a6b367e0fbaf",
   "metadata": {},
   "outputs": [],
   "source": [
    "#initialize run\n",
    "run_name = \"run-rf-default\"\n",
    "mlflow.start_run(run_name = run_name)\n",
    "run = mlflow.active_run()\n",
    "\n",
    "# save parametes\n",
    "mlflow.log_param(\"n_estimators\", n_estimators_rf_default)\n",
    "mlflow.log_param(\"max_depth\", max_depth_rf_default)\n",
    "mlflow.log_param(\"min_samples_split\", min_samples_split_rf_default)\n",
    "mlflow.log_param(\"min_samples_leaf\", min_samples_leaf_rf_default)\n",
    "\n",
    "# save metrics\n",
    "mlflow.log_metric(\"r2\", r2_rf_default)\n",
    "mlflow.log_metric(\"rmse\", rmse_rf_default)\n",
    "mlflow.log_metric(\"mae\", mae_rf_default)\n",
    "\n",
    "# save graphs\n",
    "mlflow.log_artifact(name_correleation_matrix)\n",
    "mlflow.log_artifact(name_histograms_target)\n",
    "\n",
    "# save model (but not registry)\n",
    "model_name = 'model.pkl'\n",
    "joblib.dump(rf_default, model_name) # save locally\n",
    "mlflow.log_artifact(model_name) # mlflow\n",
    "\n",
    "# end run\n",
    "mlflow.end_run()"
   ]
  },
  {
   "cell_type": "code",
   "execution_count": null,
   "id": "bfb15676-6b11-4df5-a668-ccfd36b95d33",
   "metadata": {},
   "outputs": [],
   "source": []
  },
  {
   "cell_type": "code",
   "execution_count": null,
   "id": "7a4d5693-36c3-43c0-a42a-4e29ee49764a",
   "metadata": {},
   "outputs": [],
   "source": []
  },
  {
   "cell_type": "markdown",
   "id": "6cb7b77d-c185-4973-bff9-551bd7e716fd",
   "metadata": {},
   "source": [
    "#### 7.6 NN MLP (mlp-sk)"
   ]
  },
  {
   "cell_type": "code",
   "execution_count": null,
   "id": "76cef21f-dd03-46bc-a10a-99190930ea86",
   "metadata": {},
   "outputs": [],
   "source": [
    "### parameters\n",
    "hidden_layer_sizes_nn_mlp = [200, 100, 50, 25]\n",
    "activation_nn_mlp = 'relu'\n",
    "learning_rate_init_nn_mlp = 0.001\n",
    "max_iter_nn_mlp = 200\n",
    "early_stopping_nn_mlp = True\n",
    "validation_fraction_nn_mlp = 0.1\n",
    "\n",
    "# train model\n",
    "nn_mlp = MLPRegressor(hidden_layer_sizes = hidden_layer_sizes_nn_mlp,\n",
    "                      activation = activation_nn_mlp,\n",
    "                      learning_rate_init = learning_rate_init_nn_mlp,\n",
    "                      max_iter = max_iter_nn_mlp,\n",
    "                      early_stopping = early_stopping_nn_mlp,\n",
    "                      validation_fraction = validation_fraction_nn_mlp,\n",
    "                      random_state = 42\n",
    "                     )\n",
    "nn_mlp.fit(X_train, y_train)\n",
    "\n",
    "\n",
    "# get predictions\n",
    "y_test_predicted = nn_mlp.predict(X_test)\n",
    "\n",
    "\n",
    "# evaluate\n",
    "r2_nn_mlp, rmse_nn_mlp, mae_nn_mlp = evaluate_model(y_test, y_test_predicted)"
   ]
  },
  {
   "cell_type": "code",
   "execution_count": null,
   "id": "859e6119-67eb-4e46-9684-7169fb5efc86",
   "metadata": {},
   "outputs": [],
   "source": [
    "#initialize run\n",
    "run_name = \"run-mlp-sk\"\n",
    "mlflow.start_run(run_name = run_name)\n",
    "run = mlflow.active_run()\n",
    "\n",
    "# # save parametes\n",
    "mlflow.log_param(\"hidden_layer_sizes_nn_mlp\", '[200, 100, 50, 25]')\n",
    "mlflow.log_param(\"activation_nn_mlp\", activation_nn_mlp)\n",
    "mlflow.log_param(\"learning_rate_init_nn_mlp\", learning_rate_init_nn_mlp)\n",
    "mlflow.log_param(\"max_iter_nn_mlp\", max_iter_nn_mlp)\n",
    "mlflow.log_param(\"early_stopping_nn_mlp\", True)\n",
    "mlflow.log_param(\"validation_fraction_nn_mlp\", validation_fraction_nn_mlp)\n",
    "\n",
    "\n",
    "# save metrics\n",
    "mlflow.log_metric(\"r2\", r2_nn_mlp)\n",
    "mlflow.log_metric(\"rmse\", rmse_nn_mlp)\n",
    "mlflow.log_metric(\"mae\", mae_nn_mlp)\n",
    "\n",
    "# save graphs\n",
    "mlflow.log_artifact(name_correleation_matrix)\n",
    "mlflow.log_artifact(name_histograms_target)\n",
    "\n",
    "# save model (but not registry)\n",
    "model_name = 'model.pkl'\n",
    "joblib.dump(nn_mlp, model_name) # save locally\n",
    "mlflow.log_artifact(model_name) # mlflow\n",
    "\n",
    "# end run\n",
    "mlflow.end_run()"
   ]
  },
  {
   "cell_type": "code",
   "execution_count": null,
   "id": "3bdae1f4-6245-4de8-a5fb-5896a59d65d1",
   "metadata": {},
   "outputs": [],
   "source": []
  },
  {
   "cell_type": "code",
   "execution_count": null,
   "id": "588682a0-88f8-42ab-bd76-ee4b70df67c6",
   "metadata": {},
   "outputs": [],
   "source": []
  },
  {
   "cell_type": "code",
   "execution_count": null,
   "id": "aaaa67c7-5ccc-4ace-8f71-32973c3afe1f",
   "metadata": {},
   "outputs": [],
   "source": []
  },
  {
   "cell_type": "code",
   "execution_count": null,
   "id": "c914af9d-1011-4571-bd78-41195da43bca",
   "metadata": {},
   "outputs": [],
   "source": []
  },
  {
   "cell_type": "markdown",
   "id": "ff5e1681-80e9-4c5b-98cc-6a15acbca267",
   "metadata": {},
   "source": [
    "### 8. Delete files saved locally"
   ]
  },
  {
   "cell_type": "code",
   "execution_count": null,
   "id": "2bd818e4-0829-4b3a-8a96-f3e9bcb90c3e",
   "metadata": {},
   "outputs": [],
   "source": [
    "### delete local files\n",
    "os.remove(model_name)\n",
    "os.remove(name_correleation_matrix)\n",
    "os.remove(name_histograms_target)"
   ]
  },
  {
   "cell_type": "code",
   "execution_count": null,
   "id": "c1e7eed3-d355-4956-8aff-3edf41f19b31",
   "metadata": {},
   "outputs": [],
   "source": []
  },
  {
   "cell_type": "code",
   "execution_count": null,
   "id": "9f539be8-0f3d-4b32-987d-dff0567bae00",
   "metadata": {},
   "outputs": [],
   "source": []
  },
  {
   "cell_type": "code",
   "execution_count": null,
   "id": "adf436ec-d295-4b8e-b532-1da0f012d17f",
   "metadata": {},
   "outputs": [],
   "source": []
  }
 ],
 "metadata": {
  "kernelspec": {
   "display_name": "Python 3 (ipykernel)",
   "language": "python",
   "name": "python3"
  },
  "language_info": {
   "codemirror_mode": {
    "name": "ipython",
    "version": 3
   },
   "file_extension": ".py",
   "mimetype": "text/x-python",
   "name": "python",
   "nbconvert_exporter": "python",
   "pygments_lexer": "ipython3",
   "version": "3.10.14"
  }
 },
 "nbformat": 4,
 "nbformat_minor": 5
}
