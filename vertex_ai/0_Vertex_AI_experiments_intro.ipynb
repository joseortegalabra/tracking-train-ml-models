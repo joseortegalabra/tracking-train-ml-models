{
 "cells": [
  {
   "cell_type": "markdown",
   "id": "5890081a-dfc9-4804-93f6-361c262617a2",
   "metadata": {},
   "source": [
    "# Vertex AI\n",
    "Use the service \"Experiments\" directly in vertex to tracking the results of the models trained\n",
    "\n",
    "Examples codes to understand the tool"
   ]
  },
  {
   "cell_type": "markdown",
   "id": "e2a1a032-6873-4db3-9cd4-b741f8281c08",
   "metadata": {},
   "source": [
    "### 0. Packages"
   ]
  },
  {
   "cell_type": "code",
   "execution_count": null,
   "id": "852ccb32-65d0-4c1d-83fc-fe321575e363",
   "metadata": {},
   "outputs": [],
   "source": [
    "# ml packages\n",
    "import numpy as np\n",
    "import matplotlib.pyplot as plt\n",
    "import pandas as pd\n",
    "from sklearn import datasets\n",
    "import seaborn as sns\n",
    "import pickle\n",
    "import os\n",
    "from dotenv import load_dotenv, find_dotenv\n",
    "\n",
    "from sklearn.decomposition import PCA\n",
    "from sklearn.model_selection import train_test_split\n",
    "from sklearn.linear_model import LinearRegression\n",
    "from sklearn.ensemble import RandomForestRegressor\n",
    "from sklearn.metrics import mean_squared_error\n",
    "from sklearn.metrics import r2_score\n",
    "\n",
    "# vertex gcp\n",
    "from google.cloud import aiplatform as vertex_ai\n",
    "from google.cloud import storage"
   ]
  },
  {
   "cell_type": "code",
   "execution_count": null,
   "id": "251e01cc-44fb-483d-9d03-f0c1fe732829",
   "metadata": {},
   "outputs": [],
   "source": []
  },
  {
   "cell_type": "markdown",
   "id": "576ed9b2-2add-4fea-b145-0072916137c6",
   "metadata": {},
   "source": [
    "### 1. Generate parameters, variables and artifacts to save (dummy examples)\n",
    "\n",
    "Create very simple example to focus in show how to use the tool"
   ]
  },
  {
   "cell_type": "markdown",
   "id": "dd689604-8fb1-4db6-93e2-d4d497859867",
   "metadata": {},
   "source": [
    "#### 1.1 Generate Data"
   ]
  },
  {
   "cell_type": "code",
   "execution_count": null,
   "id": "8a1ceb5d-ecd1-4a52-b6c2-5fdf830de7ed",
   "metadata": {},
   "outputs": [],
   "source": [
    "#### generate data ###\n",
    "\n",
    "# parameters data\n",
    "len_data = 1000\n",
    "number_columns = 6\n",
    "data = []\n",
    "list_variables = [\"240FY050.RO02\" , \"SGM-PI9514\", \"SSTRIPPING015\", \"SGM-PI9516\" , \"SGM-PI9512\", \"target\"]\n",
    "\n",
    "\n",
    "# seed\n",
    "np.random.seed(42)\n",
    "\n",
    "# generate random data\n",
    "for column in range(number_columns):\n",
    "    random_choise = np.random.choice(10) + 1 # amplitud\n",
    "    data_column = np.random.rand(len_data)\n",
    "    data_column = random_choise * data_column\n",
    "    data.append(data_column)\n",
    "    \n",
    "# to dataframe\n",
    "data = pd.DataFrame(data).T\n",
    "data.columns = list_variables\n",
    "\n",
    "# split train y test\n",
    "features = list(set(list_variables) - set(['target']))\n",
    "X_train, X_test, y_train, y_test = train_test_split(data[features], data['target'], test_size = 0.2, random_state=42)\n",
    "\n",
    "print('TRAIN')\n",
    "print('X_train', X_train.shape)\n",
    "print('y_train', y_train.shape)\n",
    "\n",
    "print('\\nTEST')\n",
    "print('X_test', X_test.shape)\n",
    "print('y_test', y_test.shape)"
   ]
  },
  {
   "cell_type": "markdown",
   "id": "53ee10a5-7c64-457d-b4f7-2c1b413805df",
   "metadata": {},
   "source": [
    "#### 1.2 EDA\n",
    "Generate a plot of the data to save as results of EDA with this data. Obs: this is only and example, the idea is show that can save any thing as artifact, including images"
   ]
  },
  {
   "cell_type": "code",
   "execution_count": null,
   "id": "41cb5057-316e-4d86-b28c-c1fbd7e6f243",
   "metadata": {},
   "outputs": [],
   "source": [
    "# ONLY EXAMPLE dimensionaly reduction to 2 dimensions and show the \"change of distribution between train and test\"\n",
    "\n",
    "# train pca\n",
    "pca = PCA(n_components=2)\n",
    "X_train_pca = pca.fit_transform(X_train)\n",
    "X_test_pca = pca.transform(X_test)\n",
    "\n",
    "# plot\n",
    "plot_uri_local = 'pca_plot.png'\n",
    "plt.scatter(X_train_pca[:, 0], X_train_pca[:, 1], c='blue', label='X_train')\n",
    "plt.scatter(X_test_pca[:, 0], X_test_pca[:, 1], c='red', label='X_test')\n",
    "\n",
    "plt.xlabel('Principal Component 1')\n",
    "plt.ylabel('Principal Component 2')\n",
    "plt.legend()\n",
    "plt.title('PCA of X_train y X_test')\n",
    "plt.savefig(plot_uri_local)\n",
    "plt.show()"
   ]
  },
  {
   "cell_type": "code",
   "execution_count": null,
   "id": "90b3f95e-379b-4270-a140-d4effd29b966",
   "metadata": {},
   "outputs": [],
   "source": []
  },
  {
   "cell_type": "code",
   "execution_count": null,
   "id": "c76ded92-61fc-44aa-8518-33c9ce9dfd7d",
   "metadata": {},
   "outputs": [],
   "source": []
  },
  {
   "cell_type": "markdown",
   "id": "880a0400-1e28-4780-83d5-5053c0663f34",
   "metadata": {},
   "source": [
    "#### 1.3 Train model"
   ]
  },
  {
   "cell_type": "code",
   "execution_count": null,
   "id": "4e075714-35ad-44a7-90fc-f5c93e3745ee",
   "metadata": {},
   "outputs": [],
   "source": [
    "#### train model ####\n",
    "model = LinearRegression()\n",
    "#model = RandomForestRegressor(random_state = 42)\n",
    "model.fit(X_train, y_train)\n",
    "\n",
    "\n",
    "\n",
    "#### predicción y evaluación ####\n",
    "\n",
    "### RMSE\n",
    "rmse_train = mean_squared_error(y_train, \n",
    "                                model.predict(X_train),\n",
    "                                squared = False)\n",
    "\n",
    "rmse_test = mean_squared_error(y_test, \n",
    "                               model.predict(X_test),\n",
    "                               squared = False)\n",
    "\n",
    "\n",
    "### R2\n",
    "r2_score\n",
    "\n",
    "\n",
    "r2_train = r2_score(y_train,\n",
    "                   model.predict(X_train))\n",
    "\n",
    "r2_test = r2_score(y_test,\n",
    "                   model.predict(X_test))"
   ]
  },
  {
   "cell_type": "markdown",
   "id": "c6fedacd-1041-40ed-9449-f0dc023c350c",
   "metadata": {},
   "source": [
    "#### 1.4 Generate outputs to save\n",
    "In this example, the outputs to save are genated in the final step, but it can be genrated while the code is running and use its python variables generated"
   ]
  },
  {
   "cell_type": "markdown",
   "id": "c6386b42-772e-4873-a0e4-67299a49f5b1",
   "metadata": {},
   "source": [
    "##### Parameters"
   ]
  },
  {
   "cell_type": "code",
   "execution_count": null,
   "id": "af80b7a1-1b31-44fc-a9e8-e64271e8639b",
   "metadata": {},
   "outputs": [],
   "source": [
    "# print previous parameter defined - list tags\n",
    "print('list tags:\\n', list_variables)"
   ]
  },
  {
   "cell_type": "code",
   "execution_count": null,
   "id": "fd2297ef-2a02-4423-81dc-e201cfadecaa",
   "metadata": {},
   "outputs": [],
   "source": [
    "# type of model trained - define a string with the name\n",
    "model_type = \"RF\"\n",
    "model_type"
   ]
  },
  {
   "cell_type": "code",
   "execution_count": null,
   "id": "291e8679-36b5-4c50-880b-91d966de390c",
   "metadata": {},
   "outputs": [],
   "source": [
    "# dates of training\n",
    "start_train = \"2020-01-01\"\n",
    "end_train = \"2022-12-01\""
   ]
  },
  {
   "cell_type": "code",
   "execution_count": null,
   "id": "b78fdf06-a847-460a-b8bf-dbaaa854e768",
   "metadata": {},
   "outputs": [],
   "source": []
  },
  {
   "cell_type": "markdown",
   "id": "dba13205-33ad-4f03-9ac0-e107e8a0c14b",
   "metadata": {},
   "source": [
    "##### Metrics"
   ]
  },
  {
   "cell_type": "code",
   "execution_count": null,
   "id": "ee3708f7-0853-4ba4-9834-2c1880740f4f",
   "metadata": {},
   "outputs": [],
   "source": [
    "# print metrics\n",
    "print('rmse_train: ', rmse_train)\n",
    "print('rmse_test: ', rmse_test)\n",
    "print('r2_train: ', r2_train)\n",
    "print('r2_test: ', r2_test)"
   ]
  },
  {
   "cell_type": "code",
   "execution_count": null,
   "id": "7fb16dff-d62c-4739-95cd-04c92ad5e93b",
   "metadata": {},
   "outputs": [],
   "source": []
  },
  {
   "cell_type": "markdown",
   "id": "6c9cf954-1a6c-4b76-80d9-914c74433410",
   "metadata": {},
   "source": [
    "##### Artifacts"
   ]
  },
  {
   "cell_type": "code",
   "execution_count": null,
   "id": "741316b0-1c90-4fc0-9032-281f2b928eed",
   "metadata": {},
   "outputs": [],
   "source": [
    "# generate a pickle with the model\n",
    "model_uri_local = 'model.pkl'\n",
    "with open(model_uri_local, 'wb') as file:\n",
    "    pickle.dump(model, file)"
   ]
  },
  {
   "cell_type": "code",
   "execution_count": null,
   "id": "ff7c80ad-edae-4db8-b965-56e8dbbdbff8",
   "metadata": {},
   "outputs": [],
   "source": [
    "# generar artefacto data csv y borrar del local\n",
    "data_uri_local = 'data.csv'\n",
    "data.to_csv(data_uri_local)"
   ]
  },
  {
   "cell_type": "code",
   "execution_count": null,
   "id": "52c7773f-8a37-49a9-a5b6-ea2ed22212d4",
   "metadata": {},
   "outputs": [],
   "source": []
  },
  {
   "cell_type": "code",
   "execution_count": null,
   "id": "829d6406-8c0d-442b-8a64-c0c02a4f2476",
   "metadata": {},
   "outputs": [],
   "source": []
  },
  {
   "cell_type": "markdown",
   "id": "0f2fffd9-975d-45f2-b1c5-59105c3309be",
   "metadata": {},
   "source": [
    "### 2. Registry Experiment Vertex AI\n",
    "- Documentation codes Vertex: https://cloud.google.com/python/docs/reference/aiplatform/latest/google.cloud.aiplatform.Experiment\n",
    "\n",
    "Notebooks with examples:\n",
    "- Oficial repo gcp: https://github.com/GoogleCloudPlatform/vertex-ai-samples/blob/main/notebooks/community/experiments/vertex_ai_model_experimentation.ipynb\n",
    "- medium post: https://medium.com/google-cloud/machine-learning-experiment-tracking-with-vertex-ai-8406f8d44376\n",
    "\n",
    "\n",
    "\n",
    "-------\n",
    "**IMPORTANT**\n",
    "\n",
    "Previously vertex tensorboard has a high cost and everyone recommend to not use it. But now vertex tensorboard is cheaper, so is highly recommended use it to analyse end evaluate the models trained (IN ADDITION that was not possible save artifacts in the experiments without having a vertex tensorboard instance created)"
   ]
  },
  {
   "cell_type": "code",
   "execution_count": null,
   "id": "e01564f3-9c09-4139-92cd-7c5e68a865f8",
   "metadata": {},
   "outputs": [],
   "source": [
    "# show version of vertex used. The version of vertex is constantly updated\n",
    "!pip show google-cloud-aiplatform"
   ]
  },
  {
   "cell_type": "code",
   "execution_count": null,
   "id": "700dc68f-7de2-4f75-a75a-74275eccf5c1",
   "metadata": {},
   "outputs": [],
   "source": [
    "# PARAMETERS GCP\n",
    "\n",
    "# get environment variables from .env - only necesary using a jupyter notebook\n",
    "load_dotenv(find_dotenv())\n",
    "\n",
    "# read env variables\n",
    "PROJECT_GCP = os.environ.get(\"PROJECT_GCP\", \"\")\n",
    "LOCATION_GCP = os.environ.get(\"LOCATION_GCP\", \"\")\n",
    "BUCKET_NAME = os.environ.get(\"BUCKET_NAME\", \"\")"
   ]
  },
  {
   "cell_type": "code",
   "execution_count": null,
   "id": "fda40df0-f0eb-4352-877e-50d0940c7ed1",
   "metadata": {},
   "outputs": [],
   "source": [
    "# PARAMETERS CREATE AN EXPERIMENT IN VERTEX AI. # obs: In names only are accepted '[a-z0-9][a-z0-9-]{0,127}'\n",
    "EXPERIMENT_NAME = 'intro3-experiment-vertex'\n",
    "EXPERIMENT_DESCRIPTION = 'Introduction to save experiment in vertex'"
   ]
  },
  {
   "cell_type": "code",
   "execution_count": null,
   "id": "2dfeea30-524b-46cd-b158-59e4db7f176d",
   "metadata": {},
   "outputs": [],
   "source": []
  },
  {
   "cell_type": "code",
   "execution_count": null,
   "id": "a4d26c63-39e6-427f-ab31-3c9586cb081c",
   "metadata": {},
   "outputs": [],
   "source": []
  },
  {
   "cell_type": "markdown",
   "id": "2d715db1-3da7-4a72-8835-e59576c2d178",
   "metadata": {},
   "source": [
    "#### 2.1 Create experiment\n",
    "Create an experiment and inside of this, different runs are created to save the results of diferents models trained.\n",
    "Step:\n",
    "- create vertex tensorboard instance\n",
    "- create vertex experiment associated with the tensorboard instance created\n",
    "\n",
    "Obs:\n",
    "- The method vertex_ai.init() set the experiment if this exists and if donesn't exist, it is created. Also, when is set the tensorboard it is created if it doesn't exist\n",
    "- documentation: https://cloud.google.com/python/docs/reference/aiplatform/latest/google.cloud.aiplatform.Tensorboard#google_cloud_aiplatform_Tensorboard_create\n",
    "\n",
    "OBS IMPORTANT:\n",
    "- Tensorboard.create create always work creating a new tensorboard instance with the same display name but different ID"
   ]
  },
  {
   "cell_type": "markdown",
   "id": "d2eec746-f2e3-4264-9cf2-aeddb003862b",
   "metadata": {},
   "source": [
    "##### 2.1.1 ONLY ONCE. CREATE TENSORBOARD INSTANCE FOR THIS EXPERIMENT\n",
    "Because, each time is calling this code a new tensorboard instance is created with the same display name and different id (resource_name)"
   ]
  },
  {
   "cell_type": "code",
   "execution_count": null,
   "id": "6da55b82-a80c-4926-bc3e-5d098513b935",
   "metadata": {},
   "outputs": [],
   "source": [
    "# create tensorboard instace - only the first time\n",
    "\n",
    "\"\"\"\n",
    "experiment_tensorboard = vertex_ai.Tensorboard.create(display_name = f'tensorboard-{EXPERIMENT_NAME}',\n",
    "                                                      description = f'tensorboard-{EXPERIMENT_DESCRIPTION}',\n",
    "                                                        project = PROJECT_GCP,\n",
    "                                                        location = LOCATION_GCP\n",
    "                                                     )\n",
    "experiment_tensorboard\n",
    "\"\"\""
   ]
  },
  {
   "cell_type": "code",
   "execution_count": null,
   "id": "3b32334a-55a4-4d44-a8a9-606fba7a4af9",
   "metadata": {},
   "outputs": [],
   "source": []
  },
  {
   "cell_type": "markdown",
   "id": "6c482336-b17a-4952-ac14-7a8d6ed44e6d",
   "metadata": {},
   "source": [
    "#### 2.1.2 Set the experiment\n",
    "If the experiment doesn't exist, it is created. And if it exists set the experiment"
   ]
  },
  {
   "cell_type": "code",
   "execution_count": null,
   "id": "a992a653-f928-47dd-a436-ae5054e58c12",
   "metadata": {
    "scrolled": true
   },
   "outputs": [],
   "source": [
    "# IMPORTANT: THE DISPLAY NAME D0ESN'T SHOWED, ONLY THE ID\n",
    "vertex_ai.Tensorboard.list(project = PROJECT_GCP,\n",
    "                           location = LOCATION_GCP\n",
    "                          )"
   ]
  },
  {
   "cell_type": "code",
   "execution_count": null,
   "id": "45b05443-a1d1-42c7-97ba-58bee3cd7849",
   "metadata": {
    "scrolled": true
   },
   "outputs": [],
   "source": [
    "# GET tensorboard instance created FILTERING by display name \n",
    "# return a list of the instance doesn't exist return a empty list\n",
    "\n",
    "id_tensorboard_vertex = vertex_ai.Tensorboard.list(\n",
    "    #filter = f'display_name=\"tensorboard-intro3-experiment-vertex\"',\n",
    "    filter = f'display_name=\"tensorboard-{EXPERIMENT_NAME}\"',\n",
    "    project = PROJECT_GCP,\n",
    "    location = LOCATION_GCP\n",
    ")[0]\n",
    "\n",
    "id_tensorboard_vertex"
   ]
  },
  {
   "cell_type": "code",
   "execution_count": null,
   "id": "58b742fb-a173-4517-be6b-c192e6cb5228",
   "metadata": {},
   "outputs": [],
   "source": [
    "# set experiment (or created if it doesn't exist - automatically)\n",
    "vertex_ai.init(\n",
    "    experiment = EXPERIMENT_NAME,\n",
    "    experiment_description = EXPERIMENT_DESCRIPTION,\n",
    "    experiment_tensorboard = id_tensorboard_vertex,\n",
    "    project = PROJECT_GCP,\n",
    "    location = LOCATION_GCP,\n",
    "    )"
   ]
  },
  {
   "cell_type": "code",
   "execution_count": null,
   "id": "cc50f561-1d97-4cb2-a6f8-b00668230d38",
   "metadata": {},
   "outputs": [],
   "source": [
    "stop"
   ]
  },
  {
   "cell_type": "code",
   "execution_count": null,
   "id": "0841099a-d4e4-40db-be6d-95e695e6e3e7",
   "metadata": {},
   "outputs": [],
   "source": []
  },
  {
   "cell_type": "markdown",
   "id": "5ff68bb6-72aa-4b34-a659-84f4310339c4",
   "metadata": {},
   "source": [
    "#### 2.2 Create Run\n",
    "create a run were save the results of the model trained"
   ]
  },
  {
   "cell_type": "code",
   "execution_count": null,
   "id": "eebaa91d-962e-4435-b19f-b002cac116e7",
   "metadata": {},
   "outputs": [],
   "source": [
    "# PARAMETERS CREATE A RUN IN A VERTEX AI \"EXPERIMENT\"\n",
    "RUN_NAME = \"run-5\""
   ]
  },
  {
   "cell_type": "code",
   "execution_count": null,
   "id": "f00b6d90-86b8-42f4-b278-5de330681d9a",
   "metadata": {},
   "outputs": [],
   "source": [
    "# create a run\n",
    "vertex_ai.start_run(RUN_NAME)"
   ]
  },
  {
   "cell_type": "code",
   "execution_count": null,
   "id": "9203970d-4b84-4b24-98ff-f4edd1e038b2",
   "metadata": {},
   "outputs": [],
   "source": []
  },
  {
   "cell_type": "markdown",
   "id": "09f8818f-7529-4d0c-ac4a-4850f211585f",
   "metadata": {},
   "source": [
    "#### 2.3 Save parameters"
   ]
  },
  {
   "cell_type": "code",
   "execution_count": null,
   "id": "6153817d-92ab-4b50-9f5c-7b59713db3dc",
   "metadata": {},
   "outputs": [],
   "source": [
    "# define params to save. In a dicctionary\n",
    "params_to_save = {\n",
    "    'learning_rate': 0.01,\n",
    "    'dropout_rate': 0.02,\n",
    "    'list_features': str(list_variables), # only support strings\n",
    "    'model_type': model_type,\n",
    "    'start_train': start_train,\n",
    "    'end_train': end_train\n",
    "}\n",
    "\n",
    "# save parameters\n",
    "vertex_ai.log_params(params_to_save)"
   ]
  },
  {
   "cell_type": "markdown",
   "id": "78d718f4-c8f0-42fb-bfce-30f82dd73669",
   "metadata": {},
   "source": [
    "#### 2.4 Save metrics"
   ]
  },
  {
   "cell_type": "code",
   "execution_count": null,
   "id": "06f7574a-938d-4646-bf63-a4264bbadf5e",
   "metadata": {},
   "outputs": [],
   "source": [
    "# define metrics to save. In a dicctionary\n",
    "metrics_to_save = {\n",
    "    'rmse_train': rmse_train,\n",
    "    'rmse_test': rmse_test,\n",
    "    'r2_train': r2_train,\n",
    "    'r2_test': r2_test\n",
    "}\n",
    "\n",
    "# save metrics\n",
    "vertex_ai.log_metrics(metrics_to_save)"
   ]
  },
  {
   "cell_type": "code",
   "execution_count": null,
   "id": "9e686e7f-996c-43b4-96d2-aa8f8f1ee453",
   "metadata": {},
   "outputs": [],
   "source": [
    "#### obs: the metrics can be replaced any times that you want/need\n",
    "metrics_to_save = {\n",
    "    'rmse_train': rmse_train,\n",
    "    'rmse_test': rmse_test,\n",
    "    'r2_train': r2_train + 10,\n",
    "    'r2_test': r2_test + 56\n",
    "}\n",
    "\n",
    "# save metrics \n",
    "vertex_ai.log_metrics(metrics_to_save)"
   ]
  },
  {
   "cell_type": "code",
   "execution_count": null,
   "id": "121c1890-fcf9-4b88-a32a-f3d30c09ba6b",
   "metadata": {},
   "outputs": [],
   "source": [
    "### obs: in adition you can add new metrics without loss the previous values\n",
    "metrics_to_save = {\n",
    "    'loss_train': 0.0001,\n",
    "    'loss_test': 3000\n",
    "}\n",
    "\n",
    "# save metrics\n",
    "vertex_ai.log_metrics(metrics_to_save)"
   ]
  },
  {
   "cell_type": "markdown",
   "id": "ef478a3d-7d25-4b80-9799-5995ed034f16",
   "metadata": {},
   "source": [
    "**OBS: It is also possible to modify the run parameters**"
   ]
  },
  {
   "cell_type": "code",
   "execution_count": null,
   "id": "dce8b816-5bb3-430a-a6c6-53132d01ab39",
   "metadata": {},
   "outputs": [],
   "source": []
  },
  {
   "cell_type": "code",
   "execution_count": null,
   "id": "13899789-12a4-47bb-a412-106784046ea6",
   "metadata": {},
   "outputs": [],
   "source": []
  },
  {
   "cell_type": "markdown",
   "id": "27ad6911-bb59-47b7-bc75-f18f6c14f934",
   "metadata": {},
   "source": [
    "#### 2.5 Save time series\n",
    "Save metrics during the training phase. For example, acc, loss, etc. in each step of training the NN.\r\n",
    "\r\n",
    "These metrics must be stored in a vertex tensorboa)."
   ]
  },
  {
   "cell_type": "code",
   "execution_count": null,
   "id": "cc3da6fa-db46-41af-ab8a-d9840d84023a",
   "metadata": {},
   "outputs": [],
   "source": [
    "### EXAMPLE CODE TO SAVE METRICS OF EACH EPOCH OF TRAINNING THE MODEL\n",
    "\n",
    "vertex_ai.log_time_series_metrics({\"mse\": 2500.00, \"rmse\": 50.00})\n",
    "vertex_ai.log_time_series_metrics({\"mse\": 2600.00, \"rmse\": 60.00})\n",
    "vertex_ai.log_time_series_metrics({\"mse\": 2700.00, \"rmse\": 70.00})\n",
    "vertex_ai.log_time_series_metrics({\"mse\": 2800.00, \"rmse\": 100.00})\n",
    "vertex_ai.log_time_series_metrics({\"mse\": 5.00, \"rmse\": 2.00})\n",
    "vertex_ai.log_time_series_metrics({\"mse\": 2.00, \"rmse\": 1.00})"
   ]
  },
  {
   "cell_type": "code",
   "execution_count": null,
   "id": "7f19b556-3586-453a-82d5-5bb8cf51dee0",
   "metadata": {},
   "outputs": [],
   "source": []
  },
  {
   "cell_type": "code",
   "execution_count": null,
   "id": "899f2bcd-b6ef-4fbf-acfe-e6f1e044e55b",
   "metadata": {},
   "outputs": [],
   "source": []
  },
  {
   "cell_type": "markdown",
   "id": "639bef68-03b4-45e0-ba92-42e89f8833d5",
   "metadata": {},
   "source": [
    "#### 2.6 Save artifacts\n",
    "- Documentation save artifacts saved in GCS in menu \"metadata\" of vertex: https://cloud.google.com/python/docs/reference/aiplatform/1.15.0/google.cloud.aiplatform.Artifact\n",
    "\n",
    "- Documentation how to link artifacts saved in \"metadata\" menu with artifacts in \"run\" of \"experiments\" in vertex. Metadata Execution resource for Vertex AI: https://cloud.google.com/python/docs/reference/aiplatform/1.15.0/google.cloud.aiplatform.Execution\n",
    "\n",
    "\n",
    "- Artifacts types. There are differents types of artifact: System.Dataset, system.Model, system.Artifact\n",
    "\n",
    "\n",
    "- The main idea TO SAVE ARTIFACT IN THE RUN is:\n",
    "\n",
    "-- save artifact locally\n",
    "  \n",
    "-- save artifact in GCS\n",
    "  \n",
    "-- link the artifact in GCS with vertex metadata\n",
    "  \n",
    "-- link vertex metadata with artifacts saved in a run (experiments vertex)"
   ]
  },
  {
   "cell_type": "code",
   "execution_count": null,
   "id": "95eae564-75e1-4ec6-9193-623766499c18",
   "metadata": {},
   "outputs": [],
   "source": []
  },
  {
   "cell_type": "code",
   "execution_count": null,
   "id": "e1ba0258-c0eb-4dca-ab80-0d8af26e4e31",
   "metadata": {},
   "outputs": [],
   "source": [
    "### ----> define the path in GCS where the artifacts will be saved\n",
    "data_uri = f'gs://{BUCKET_NAME}/data.csv'\n",
    "model_uri = f'gs://{BUCKET_NAME}/model.pkl'\n",
    "plot_uri = f'gs://{BUCKET_NAME}/pca_plot.png'"
   ]
  },
  {
   "cell_type": "code",
   "execution_count": null,
   "id": "bb125369-2ca6-44bd-8218-e5c6ec5497fe",
   "metadata": {},
   "outputs": [],
   "source": [
    "# -----> save the local artifacts in GCS\n",
    "\n",
    "def save_local_to_gcs(uri_gcs, uri_local):\n",
    "    \"\"\"\n",
    "    Save a locally file onto GCS.\n",
    "    Args:\n",
    "        uri_gcs (string): path in gcs where the local file will be saved\n",
    "        uri_local (strring). path in local where the local file was saved\n",
    "\n",
    "    Return\n",
    "        nothing\n",
    "    \"\"\"\n",
    "\n",
    "    blob = storage.blob.Blob.from_string(uri_gcs, client=storage.Client())\n",
    "    blob.upload_from_filename(uri_local)\n",
    "\n",
    "\n",
    "# save from local to gcs\n",
    "save_local_to_gcs(uri_gcs = plot_uri, \n",
    "                  uri_local = plot_uri_local)\n",
    "\n",
    "save_local_to_gcs(uri_gcs = data_uri, \n",
    "                  uri_local = data_uri_local)\n",
    "\n",
    "save_local_to_gcs(uri_gcs = model_uri, \n",
    "                  uri_local = model_uri_local)"
   ]
  },
  {
   "cell_type": "code",
   "execution_count": null,
   "id": "47b2eb78-f463-4206-9556-5df52fd40d46",
   "metadata": {},
   "outputs": [],
   "source": [
    "### -----> create a metadata file in vertex menu \"metadata\" will be used to registry the artifacts in GCS into metdata\n",
    "\n",
    "\n",
    "# crear un archivo metadata de vertex que apunta al archivo en GCS subido - type of artifact: system.artifact\n",
    "artifact_metadata = vertex_ai.Artifact.create(\n",
    "    schema_title = \"system.Artifact\", \n",
    "    uri = plot_uri, \n",
    "    display_name = \"plot-image\", # nombre con el que se muestra en el menu \"metadata\"\n",
    "    description = \"description-plot-image\",\n",
    "    \n",
    "    resource_id = f\"plot-image---{EXPERIMENT_NAME}-{RUN_NAME}\"  # nombre con el que se muestra en el menu \"artifact del run del experimento\" de vertex. No acepta espacios\n",
    "    )\n",
    "\n",
    "\n",
    "# crear un archivo metadata de vertex que apunta al archivo en GCS subido - tpye of artifact: system.dataset\n",
    "data_metadata = vertex_ai.Artifact.create(\n",
    "    schema_title = \"system.Dataset\", \n",
    "    uri = data_uri, \n",
    "    display_name = \"data csv\",\n",
    "    description = \"description data csv\",\n",
    "    resource_id = f\"data---{EXPERIMENT_NAME}-{RUN_NAME}\"\n",
    "    )\n",
    "\n",
    "\n",
    "# crear archivo metadata de vertex que apunte al archivo en GCS subido - type of artifact: model.pkl\n",
    "model_artifact = vertex_ai.Artifact.create(\n",
    "    schema_title = 'system.Model',\n",
    "    uri = model_uri,\n",
    "    display_name = 'model',\n",
    "    description = \"description model\",\n",
    "    resource_id = f\"model---{EXPERIMENT_NAME}-{RUN_NAME}\"\n",
    ")"
   ]
  },
  {
   "cell_type": "code",
   "execution_count": null,
   "id": "52781003-8a49-4da1-9e4f-086ca4382e39",
   "metadata": {},
   "outputs": [],
   "source": [
    "#### Link \"artifacts in metadata\" with \"artifacts in the run\"\n",
    "\n",
    "# create executions\n",
    "executions = vertex_ai.start_execution(\n",
    "    schema_title=\"system.ContainerExecution\", \n",
    "    display_name='REGISTRO DE ARTIFACTS'\n",
    ")\n",
    "\n",
    "# define 'input artifacts' such as parameters, data, etc\n",
    "executions.assign_input_artifacts([data_metadata, artifact_metadata])\n",
    "\n",
    "# define 'output artifacts' -> model\n",
    "executions.assign_output_artifacts([model_artifact])"
   ]
  },
  {
   "cell_type": "markdown",
   "id": "02478320-7dc7-497a-9e16-ec10b596c405",
   "metadata": {},
   "source": [
    "**Obs: It is not necessary define always intup and output artifact**"
   ]
  },
  {
   "cell_type": "code",
   "execution_count": null,
   "id": "063b26bc-4612-4326-bd47-b566f0c8a133",
   "metadata": {},
   "outputs": [],
   "source": []
  },
  {
   "cell_type": "markdown",
   "id": "d58f6630-0806-43ba-8780-0bca4e4bd5c5",
   "metadata": {},
   "source": [
    "#### 2.7 End run"
   ]
  },
  {
   "cell_type": "code",
   "execution_count": null,
   "id": "21dbc864-f8d9-48e6-a18f-793493418730",
   "metadata": {},
   "outputs": [],
   "source": [
    "### terminar run\n",
    "vertex_ai.end_run()"
   ]
  },
  {
   "cell_type": "code",
   "execution_count": null,
   "id": "1d03ddf6-175e-479f-af11-dd0d490fdbe6",
   "metadata": {},
   "outputs": [],
   "source": []
  },
  {
   "cell_type": "markdown",
   "id": "872a1b60-8813-4146-857a-2800c153c788",
   "metadata": {},
   "source": [
    "#### 2.8 Remove local files"
   ]
  },
  {
   "cell_type": "code",
   "execution_count": null,
   "id": "b2573f27-9254-4c89-81f9-97dde80c3426",
   "metadata": {},
   "outputs": [],
   "source": [
    "# remove artifacts saved locally\n",
    "os.remove(model_uri_local)\n",
    "os.remove(data_uri_local)\n",
    "os.remove(plot_uri_local)"
   ]
  },
  {
   "cell_type": "code",
   "execution_count": null,
   "id": "f6c4a145-6c75-4c09-b542-7647e642455b",
   "metadata": {},
   "outputs": [],
   "source": []
  },
  {
   "cell_type": "code",
   "execution_count": null,
   "id": "097bb1f4-2eec-4bbb-99b8-c37e37370757",
   "metadata": {},
   "outputs": [],
   "source": []
  },
  {
   "cell_type": "code",
   "execution_count": null,
   "id": "9a8063c5-286a-4983-807c-18d8367c8b33",
   "metadata": {},
   "outputs": [],
   "source": [
    "stop"
   ]
  },
  {
   "cell_type": "markdown",
   "id": "4e763ce4-10f2-4459-b8fe-1df3c4c7ed13",
   "metadata": {},
   "source": [
    "### 3. Compare runs\n",
    "Given the experiment name, extract in a dataframe the information of each runs in this experiment. Use this information to decide which is the best model trained"
   ]
  },
  {
   "cell_type": "code",
   "execution_count": null,
   "id": "f046b0c1-3203-4a79-a74b-841d85f6478f",
   "metadata": {},
   "outputs": [],
   "source": [
    "# info all runs of a experiment - way 1\n",
    "df_results_experiments = vertex_ai.get_experiment_df(EXPERIMENT_NAME)\n",
    "\n",
    "# info all runs of a experiment - way 2\n",
    "# my_experiment = vertex_ai.Experiment(EXPERIMENT_NAME)\n",
    "# df_results_experiments = my_experiment.get_data_frame()\n",
    "\n",
    "df_results_experiments"
   ]
  },
  {
   "cell_type": "markdown",
   "id": "121354f8-2f19-48a1-9c67-ccf579e6413d",
   "metadata": {},
   "source": [
    "### 4. Get best model\n",
    "Give the dataframe with all the runs of a experiment. Get the best model trained and get its parameters, metrics and artifacts"
   ]
  },
  {
   "cell_type": "code",
   "execution_count": null,
   "id": "4338ac02-5662-4871-9348-689389618130",
   "metadata": {},
   "outputs": [],
   "source": [
    "# get the info of best model trained considering certain metrics\n",
    "target_metric = 'metric.r2_test'\n",
    "row_max_r2_test = df_results_experiments.loc[df_results_experiments[target_metric].idxmax()]\n",
    "row_max_r2_test"
   ]
  },
  {
   "cell_type": "code",
   "execution_count": null,
   "id": "67b73829-eaa0-4197-a6a6-75391839d624",
   "metadata": {},
   "outputs": [],
   "source": [
    "# get run_name best model trained\n",
    "run_name_best = row_max_r2_test['run_name']\n",
    "run_name_best"
   ]
  },
  {
   "cell_type": "code",
   "execution_count": null,
   "id": "12801f13-9873-4e20-b5dc-9c25408a2cfe",
   "metadata": {},
   "outputs": [],
   "source": [
    "# connect to best run given the \"run_name\"\n",
    "run_best = vertex_ai.ExperimentRun.get(run_name_best, experiment = EXPERIMENT_NAME)\n",
    "run_best"
   ]
  },
  {
   "cell_type": "code",
   "execution_count": null,
   "id": "9d1761c4-9c19-47e5-9d19-5865716a9872",
   "metadata": {},
   "outputs": [],
   "source": [
    "# get artifacts\n",
    "run_best.get_artifacts()"
   ]
  },
  {
   "cell_type": "code",
   "execution_count": null,
   "id": "7829449a-c2f3-4699-89b0-c5d6f31d5870",
   "metadata": {},
   "outputs": [],
   "source": [
    "# example reading an artifact\n",
    "pd.read_csv(run_best.get_artifacts()[1].uri)"
   ]
  },
  {
   "cell_type": "code",
   "execution_count": null,
   "id": "bf65753f-1d33-4346-b500-6468cb570c7a",
   "metadata": {},
   "outputs": [],
   "source": [
    "run_best.get_metrics()"
   ]
  },
  {
   "cell_type": "code",
   "execution_count": null,
   "id": "7d39a241-b33b-4487-813a-c8cf6ec97760",
   "metadata": {},
   "outputs": [],
   "source": [
    "run_best.get_params()"
   ]
  },
  {
   "cell_type": "code",
   "execution_count": null,
   "id": "fc3a607e-0f5e-404a-894c-e16a0a3c088f",
   "metadata": {},
   "outputs": [],
   "source": [
    "run_best.get_experiment_models()"
   ]
  },
  {
   "cell_type": "code",
   "execution_count": null,
   "id": "241908e8-8ddd-4e8b-8cc0-744229dd6adb",
   "metadata": {},
   "outputs": [],
   "source": [
    "run_best.get_time_series_data_frame()"
   ]
  },
  {
   "cell_type": "code",
   "execution_count": null,
   "id": "1b6006c4-5f4d-41fc-9c39-900372f19460",
   "metadata": {},
   "outputs": [],
   "source": []
  },
  {
   "cell_type": "code",
   "execution_count": null,
   "id": "80350ac1-f0a1-402d-a850-72206401c85d",
   "metadata": {},
   "outputs": [],
   "source": []
  },
  {
   "cell_type": "code",
   "execution_count": null,
   "id": "919ca3e6-d9d1-453f-9f99-73070c1a6c7d",
   "metadata": {},
   "outputs": [],
   "source": []
  }
 ],
 "metadata": {
  "kernelspec": {
   "display_name": "Python 3 (ipykernel)",
   "language": "python",
   "name": "python3"
  },
  "language_info": {
   "codemirror_mode": {
    "name": "ipython",
    "version": 3
   },
   "file_extension": ".py",
   "mimetype": "text/x-python",
   "name": "python",
   "nbconvert_exporter": "python",
   "pygments_lexer": "ipython3",
   "version": "3.10.14"
  }
 },
 "nbformat": 4,
 "nbformat_minor": 5
}
