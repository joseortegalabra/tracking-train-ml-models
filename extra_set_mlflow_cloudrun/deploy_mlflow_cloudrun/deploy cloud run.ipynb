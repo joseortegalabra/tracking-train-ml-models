{
 "cells": [
  {
   "cell_type": "markdown",
   "id": "c7156d7d",
   "metadata": {},
   "source": [
    "# Deploy mlflow en un cloud Run\n",
    "\n",
    "### local\n",
    "Mlflow puede funcionar de forma local de forma simple: se crea una carpeta donde se van a almacenar los resultados, luego al correr mlflow se define que dicha carpeta será la conexión con mlflow. Luego, si se desea ver los resultados en una interfaz web basta con que en la consola se corra \"mlflow server\" para correr en un local host el servidor de mlflow\n",
    "\n",
    "\n",
    "### cloud: cluster  + cloud sql\n",
    "Una forma de habilitar mlflow en cloud es tener un cluster kubernetes encendido y una instancia de cloud sql. Esto gasta dinero al estar siempre encendido y es innecesario si se desea utilizar mlflow solo como una herramienta para registrar los resultados de experimentación de modelos\n",
    "\n",
    "\n",
    "### cloud: GCS + cloud run\n",
    "Esta es la solución más sencilla. En local se guardaba los resultados en una carpeta, en cloud se van a guardar en google cloud storage. Luego para mostrar la interfaz web se crea un servicio de cloud run que al abrirlo se muestra la UI de mlflow y solo gasta recursos mientras está abierto. En este notebook se va a mostrar cómo hacer esta implementación"
   ]
  },
  {
   "cell_type": "code",
   "execution_count": null,
   "id": "6840672e",
   "metadata": {},
   "outputs": [],
   "source": []
  },
  {
   "cell_type": "markdown",
   "id": "919f18e7",
   "metadata": {},
   "source": [
    "### INFO MLFLOW\n",
    "\n",
    "Documentación cómo son guardados los resultados: https://mlflow.org/docs/latest/tracking.html#how-runs-and-artifacts-are-recorded\n",
    "\n",
    "Al correr el código para crear el servidor:\n",
    "\n",
    "`mlflow server`\n",
    "\n",
    "En resumen, se deben definir 2 variables:\n",
    "- `--backend-store-uri` La que se utiliza para especificar la ubicación del almacenamiento de backend utilizado para almacenar y recuperar los datos de seguimiento de MLflow, como métricas, parámetros, artefactos y registros de ejecución. (Por ejemplo: file:///path/to/mlruns)\n",
    "\n",
    "- `--default-artifact-root` La que debe indicar la ubicación de los artefactos (La data que es más pesada, en comparación con métricas, parámetros, registros de experimentos)\n",
    "\n",
    "\n",
    "Un ejemplo de implementación es:\n",
    "\n",
    "`mlflow server \\\n",
    "    --backend-store-uri /mnt/persistent-disk \\\n",
    "    --default-artifact-root s3://my-mlflow-bucket/ \\\n",
    "    --host 0.0.0.0`\n",
    "\n",
    "\n",
    "\n",
    "Los recursos permitidos son:\n",
    "- `--backend-store-uri`: local // MLflow supports the database dialects mysql, mssql, sqlite, and postgresql\n",
    "\n",
    "- `--default-artifact-root`: local // Servicios de Storage de las diferentes nubes\n",
    "\n",
    "\n",
    "**Consideraciones para implementación cloud**\n",
    "- Se puede crear un servidor de mlflow alojado en un cloud run pero se debe de tener cuidado que si alguna de estas variables se guardan en local, va a ser el local del cloud run y cuando la instancia se desactive, toda la info va a desaparecer\n",
    "\n",
    "- Additionally, you should ensure that the --backend-store-uri (which defaults to the ./mlruns directory) points to a persistent (non-ephemeral) disk or database connection. (Sources: https://mlflow.org/docs/latest/tracking.html#networking)"
   ]
  },
  {
   "cell_type": "code",
   "execution_count": null,
   "id": "c96709a3",
   "metadata": {},
   "outputs": [],
   "source": []
  },
  {
   "cell_type": "code",
   "execution_count": null,
   "id": "d562b6f4",
   "metadata": {},
   "outputs": [],
   "source": [
    "from google.cloud import storage\n",
    "import yaml"
   ]
  },
  {
   "cell_type": "code",
   "execution_count": null,
   "id": "e49f7c53",
   "metadata": {},
   "outputs": [],
   "source": []
  },
  {
   "cell_type": "markdown",
   "id": "33858364",
   "metadata": {},
   "source": [
    "### 0. Parámetros"
   ]
  },
  {
   "cell_type": "code",
   "execution_count": null,
   "id": "5ed8b6ae",
   "metadata": {},
   "outputs": [],
   "source": [
    "# generales GCP\n",
    "PROJECT_ID = '{project_gcp}'\n",
    "REGION = 'us-east1'\n",
    "\n",
    "# bucket para mlflow\n",
    "BUCKET_MLFLOW_CLOUDRUN = '{bucket_mlflow}'\n",
    "\n",
    "# repo de artifact registry\n",
    "NAME_REPO = 'repo-mlflow-cloudrun-2-2-1'\n",
    "FORMAT_REPO = 'docker'\n",
    "DESCRIPTION_REPO = \"repo para mlflow serverless 2.2.1\"\n",
    "NAME_IMAGE = 'mlflow-cloudrun-2-2-1'\n",
    "\n",
    "# nombre de cloud run\n",
    "NAME_CLOUD_RUN = 'mlflow-cloudrun'"
   ]
  },
  {
   "cell_type": "code",
   "execution_count": null,
   "id": "e34e5acb",
   "metadata": {},
   "outputs": [],
   "source": []
  },
  {
   "cell_type": "markdown",
   "id": "7c1ce8c7",
   "metadata": {},
   "source": [
    "### 1. Setear proyecto GCP"
   ]
  },
  {
   "cell_type": "code",
   "execution_count": null,
   "id": "8db2ca81",
   "metadata": {},
   "outputs": [],
   "source": [
    "! gcloud config set project $PROJECT_ID"
   ]
  },
  {
   "cell_type": "code",
   "execution_count": null,
   "id": "d9632e0c",
   "metadata": {},
   "outputs": [],
   "source": []
  },
  {
   "cell_type": "markdown",
   "id": "f67dc52a",
   "metadata": {},
   "source": [
    "### 2. Crear bucket"
   ]
  },
  {
   "cell_type": "code",
   "execution_count": null,
   "id": "4da9b561",
   "metadata": {},
   "outputs": [],
   "source": [
    "def create_bucket(project, bucket_name, region):\n",
    "    '''\n",
    "    Crear el bucket en GCS\n",
    "    '''\n",
    "    storage_client = storage.Client(project = project)\n",
    "    bucket = storage_client.create_bucket(bucket_name, location = region)\n",
    "    print(\"Bucket {} created\".format(bucket.name))"
   ]
  },
  {
   "cell_type": "code",
   "execution_count": null,
   "id": "cff094cc",
   "metadata": {
    "scrolled": true
   },
   "outputs": [],
   "source": [
    "# bucket GCS para mlflow\n",
    "create_bucket(project = PROJECT_ID, \n",
    "              bucket_name = BUCKET_MLFLOW_CLOUDRUN, \n",
    "              region = REGION\n",
    "             )"
   ]
  },
  {
   "cell_type": "code",
   "execution_count": null,
   "id": "57baf681",
   "metadata": {},
   "outputs": [],
   "source": []
  },
  {
   "cell_type": "markdown",
   "id": "e2e84236",
   "metadata": {},
   "source": [
    "### 2.B Crear carpetas en GCS\n",
    "- \"mlflow_artifacts\" Para almacenar los artefactos\n",
    "- \"mlflow_backend\" Para almacenar el backend (registros experimentos, métricas, parámetros, etc)"
   ]
  },
  {
   "cell_type": "code",
   "execution_count": null,
   "id": "57f61920",
   "metadata": {},
   "outputs": [],
   "source": [
    "# actualmente lo hago manual"
   ]
  },
  {
   "cell_type": "code",
   "execution_count": null,
   "id": "b4168568",
   "metadata": {},
   "outputs": [],
   "source": []
  },
  {
   "cell_type": "code",
   "execution_count": null,
   "id": "6e741e94",
   "metadata": {},
   "outputs": [],
   "source": []
  },
  {
   "cell_type": "code",
   "execution_count": null,
   "id": "019f367c",
   "metadata": {},
   "outputs": [],
   "source": []
  },
  {
   "cell_type": "markdown",
   "id": "c6783ecd",
   "metadata": {},
   "source": [
    "### 3. Obtener SA que tenga los permisos para leer y guardar en GCS"
   ]
  },
  {
   "cell_type": "code",
   "execution_count": null,
   "id": "0530f404",
   "metadata": {},
   "outputs": [],
   "source": [
    "# json con credenciales - service account\n",
    "path_credentials = 'sa-gcp-mlflow.json'"
   ]
  },
  {
   "cell_type": "code",
   "execution_count": null,
   "id": "bcaef189",
   "metadata": {},
   "outputs": [],
   "source": []
  },
  {
   "cell_type": "code",
   "execution_count": null,
   "id": "1d901628",
   "metadata": {},
   "outputs": [],
   "source": []
  },
  {
   "cell_type": "code",
   "execution_count": null,
   "id": "f12634d7",
   "metadata": {},
   "outputs": [],
   "source": []
  },
  {
   "cell_type": "markdown",
   "id": "72112b17",
   "metadata": {},
   "source": [
    "### 4. Crear dockerfile para cloud run\n",
    "\n",
    "En python se puede crear un string que represente al dockerfile (pudiendo modificarse los valores) y luego guardar el archivo\n",
    "\n",
    "---\n",
    "agregar si hubiera un archivo requirements\n",
    "RUN pip install --no-cache-dir -r requirements.txt"
   ]
  },
  {
   "cell_type": "code",
   "execution_count": null,
   "id": "2d29c711",
   "metadata": {},
   "outputs": [],
   "source": [
    "# definir path folders\n",
    "folder_backend = f\"gs://{BUCKET_MLFLOW_CLOUDRUN}\" + \"/mlflow_backend\"\n",
    "folder_artifacts = f\"gs://{BUCKET_MLFLOW_CLOUDRUN}\" + \"/mlflow_artifacts\"\n",
    "\n",
    "\n",
    "print('backend: ', folder_backend)\n",
    "print('artifacts: ', folder_artifacts)"
   ]
  },
  {
   "cell_type": "code",
   "execution_count": null,
   "id": "bca87dd7",
   "metadata": {},
   "outputs": [],
   "source": [
    "# crear string que representa al dockerfile - fijando artifacts y backend\n",
    "\n",
    "string_dockerfile = f'''\n",
    "FROM python:3.8-slim-buster\n",
    "\n",
    "# Copiar los archivos del proyecto de MLflow a la imagen de Docker\n",
    "COPY . /app\n",
    "WORKDIR /app\n",
    "\n",
    "# Instala las dependencias necesarias\n",
    "RUN pip install google-cloud-storage mlflow==2.2.1\n",
    "\n",
    "# Copia el archivo de credenciales a la imagen de Docker\n",
    "COPY {path_credentials} /app/{path_credentials}\n",
    "\n",
    "# Establece la variable de entorno GOOGLE_APPLICATION_CREDENTIALS\n",
    "ENV GOOGLE_APPLICATION_CREDENTIALS=/app/{path_credentials}\n",
    "\n",
    "# Establecer el Bucket para la conexión con mlflow\n",
    "ENV MLFLOW_MODEL_REGISTRY_URI = gs://{BUCKET_MLFLOW_CLOUDRUN}\n",
    "\n",
    "# Inicia el servidor de MLflow\n",
    "CMD mlflow server --backend-store-uri {folder_backend} --default-artifact-root {folder_artifacts} --host 0.0.0.0 --port 8080\n",
    "'''"
   ]
  },
  {
   "cell_type": "code",
   "execution_count": null,
   "id": "b686c0c4",
   "metadata": {},
   "outputs": [],
   "source": [
    "# guardar dockerfile\n",
    "with open('Dockerfile', 'w') as file:\n",
    "    file.write(string_dockerfile)"
   ]
  },
  {
   "cell_type": "code",
   "execution_count": null,
   "id": "e7411d74",
   "metadata": {},
   "outputs": [],
   "source": []
  },
  {
   "cell_type": "code",
   "execution_count": null,
   "id": "562c8422",
   "metadata": {},
   "outputs": [],
   "source": []
  },
  {
   "cell_type": "markdown",
   "id": "cd6026de",
   "metadata": {},
   "source": [
    "### 5. Crear repo en artifact Registry\n",
    "- Para crear un servicio de cloud se hace a partir de una imagen (dockerfile creado en el paso anterior) y dicha imagen debe ser almacenada en un repo de \"Artifact Registry\"\n",
    "\n",
    "- Se procede a crear el repo"
   ]
  },
  {
   "cell_type": "code",
   "execution_count": null,
   "id": "071bbd78",
   "metadata": {},
   "outputs": [],
   "source": [
    "# crear repo\n",
    "! gcloud artifacts repositories create $NAME_REPO \\\n",
    "--repository-format $FORMAT_REPO \\\n",
    "--location $REGION \\\n",
    "--description \"$DESCRIPTION_REPO\" \\\n",
    "--async"
   ]
  },
  {
   "cell_type": "code",
   "execution_count": null,
   "id": "3b57ab15",
   "metadata": {},
   "outputs": [],
   "source": []
  },
  {
   "cell_type": "markdown",
   "id": "fb63513d",
   "metadata": {},
   "source": [
    "### 6. Configurar una compilación de Docker\n",
    "Es necesario crear un yaml con la configuración para compilar la imagen docker en Artifact Registry\n",
    "\n",
    "-> El siguiente código está parametrizado y no es necesario tocar para ninguna implementación de cloud run"
   ]
  },
  {
   "cell_type": "code",
   "execution_count": null,
   "id": "3bbb3f3e",
   "metadata": {},
   "outputs": [],
   "source": [
    "# crear diccionario python con el contenido del yaml cloudbuild genérico\n",
    "dict_python_yaml_cloudbuild = {'steps': [{'name': 'gcr.io/cloud-builders/docker',\n",
    "   'args': ['build', '-t', '${_LOCATION}-docker.pkg.dev/$PROJECT_ID/${_REPOSITORY}/${_IMAGE}', '.']}],\n",
    " 'images': ['${_LOCATION}-docker.pkg.dev/$PROJECT_ID/${_REPOSITORY}/${_IMAGE}']}\n",
    "\n",
    "\n",
    "# guardar diccionario en formato yaml\n",
    "with open(r'cloudbuild.yaml', 'w') as file:\n",
    "    documents = yaml.dump(dict_python_yaml_cloudbuild, file)"
   ]
  },
  {
   "cell_type": "code",
   "execution_count": null,
   "id": "19a3f599",
   "metadata": {},
   "outputs": [],
   "source": []
  },
  {
   "cell_type": "markdown",
   "id": "203b2874",
   "metadata": {},
   "source": [
    "### 7. Contenerizar (imagen docker) utilizando cloud build y subirlas a artifact registry"
   ]
  },
  {
   "cell_type": "code",
   "execution_count": null,
   "id": "9ac475d5",
   "metadata": {},
   "outputs": [],
   "source": [
    "! gcloud builds submit \\\n",
    "    --config=cloudbuild.yaml \\\n",
    "    --substitutions=_LOCATION=\"$REGION\",_REPOSITORY=\"$NAME_REPO\",_IMAGE=\"$NAME_IMAGE\" ."
   ]
  },
  {
   "cell_type": "code",
   "execution_count": null,
   "id": "ae3efaaa",
   "metadata": {},
   "outputs": [],
   "source": []
  },
  {
   "cell_type": "code",
   "execution_count": null,
   "id": "a9aaa63e",
   "metadata": {},
   "outputs": [],
   "source": []
  },
  {
   "cell_type": "markdown",
   "id": "3621b10a",
   "metadata": {},
   "source": [
    "### 8. Deploy de la imagen del contenedor de artifact registry en cloud run\n",
    "\n",
    "\n",
    "**IMPORTANTE: POR PROBLEMAS DE PERMISOS, EL CLOUD RUN ESTÁ CONFIGURADO PARA QUE CUALQUIERA CON EL LINK PUEDA ACCEDER**"
   ]
  },
  {
   "cell_type": "code",
   "execution_count": null,
   "id": "90a240bd",
   "metadata": {},
   "outputs": [],
   "source": [
    "! gcloud run deploy $NAME_CLOUD_RUN \\\n",
    "    --image $REGION-docker.pkg.dev/$PROJECT_ID/$NAME_REPO/$NAME_IMAGE \\\n",
    "    --region $REGION \\\n",
    "    --allow-unauthenticated"
   ]
  },
  {
   "cell_type": "code",
   "execution_count": null,
   "id": "7a8e58ba",
   "metadata": {},
   "outputs": [],
   "source": []
  },
  {
   "cell_type": "code",
   "execution_count": null,
   "id": "ec585910",
   "metadata": {},
   "outputs": [],
   "source": []
  },
  {
   "cell_type": "code",
   "execution_count": null,
   "id": "c9f721c7",
   "metadata": {},
   "outputs": [],
   "source": []
  },
  {
   "cell_type": "code",
   "execution_count": null,
   "id": "9c4edee1",
   "metadata": {},
   "outputs": [],
   "source": []
  },
  {
   "cell_type": "code",
   "execution_count": null,
   "id": "33d5b6fa",
   "metadata": {},
   "outputs": [],
   "source": []
  }
 ],
 "metadata": {
  "kernelspec": {
   "display_name": "Python 3 (ipykernel)",
   "language": "python",
   "name": "python3"
  },
  "language_info": {
   "codemirror_mode": {
    "name": "ipython",
    "version": 3
   },
   "file_extension": ".py",
   "mimetype": "text/x-python",
   "name": "python",
   "nbconvert_exporter": "python",
   "pygments_lexer": "ipython3",
   "version": "3.10.14"
  }
 },
 "nbformat": 4,
 "nbformat_minor": 5
}
